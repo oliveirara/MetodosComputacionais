{
 "cells": [
  {
   "cell_type": "markdown",
   "metadata": {},
   "source": [
    "<figure>\n",
    "  <img src=\"http://www.grafica.ufes.br/sites/grafica.ufes.br/files/field/file/ufes_brasao_horizontal_cor_rgb.jpg\" alt=\"UFES\" width=\"304\" height=\"228\">\n",
    "</figure>\n",
    "\n",
    "# Introdução ao Python\n",
    "\n",
    "---\n",
    "\n",
    "## Métodos Computacionais 2019\n",
    "\n",
    "**Renan Alves de Oliveira**\n",
    "\n",
    "_Prof. Davi Cabral Rodrigues_"
   ]
  },
  {
   "cell_type": "markdown",
   "metadata": {},
   "source": [
    "# [Python](https://www.python.org):\n",
    "\n",
    "\"Python is an interpreted, high-level, general-purpose programming language. Created by Guido van Rossum and *first released in 1991*, Python's design philosophy emphasizes code readability with its notable use of significant whitespace. Its language constructs and object-oriented approach aim to help programmers write clear, logical code for small and large-scale projects. Python is dynamically typed and garbage-collected. **It supports multiple programming paradigms, including procedural, object-oriented, and functional programming**. Python is often described as a \"batteries included\" language due to its comprehensive standard library.\" (https://en.wikipedia.org/wiki/Python_)\n",
    "\n",
    "## Bibliotecas:\n",
    "\n",
    "- Graphical user interfaces\n",
    "- Web frameworks\n",
    "- Multimedia\n",
    "- Databases\n",
    "- Networking\n",
    "- Test frameworks\n",
    "- Automation\n",
    "- Web scraping\n",
    "- Documentation\n",
    "- System administration\n",
    "- Scientific computing\n",
    "- Text processing\n",
    "- Image processing\n",
    "\n",
    "## Quais bibliotecas devo usar?\n",
    "\n",
    "- [NumPy](https://numpy.org)\n",
    "- [SciPy](https://www.scipy.org)\n",
    "- [SymPy](https://www.sympy.org/en/index.html)\n",
    "- [Matplotlib](https://matplotlib.org)\n",
    "- [Anaconda](https://www.anaconda.com/distribution/)\n",
    "    - NumPy, SciPy, Matplotlib, Numba, Keras, SkitLearn, TensorFlow, Jupyter Lab, Jupyter Notebook, Spyder, ...\n",
    "\n",
    "## Programas para desenvolver em Python:\n",
    "\n",
    "- Editor de texto (notepad.exe, gedit)\n",
    "- [Sublime Text](https://www.sublimetext.com)\n",
    "- [Spyder](https://www.spyder-ide.org/)\n",
    "- [PyCharm](https://www.jetbrains.com/pycharm/)\n",
    "- [Jupyter Notebook](https://jupyter.org/)\n",
    "\n",
    "Dica de leitura: [Top 5 Python IDEs For Data Science](https://www.datacamp.com/community/tutorials/data-science-python-ide)"
   ]
  },
  {
   "cell_type": "markdown",
   "metadata": {},
   "source": [
    "# [Jupyter Notebook](https://jupyter.org/)/Jupyter Lab:\n",
    "\n",
    "- Similar ao Wolfram Mathematica\n",
    "- É possível abrir um kernel nesse computador (para o processamento) e executar em outro computador (devido ao browser)\n",
    "    - Não é necessário estar conectado a internet\n",
    "- Suporta a várias linguagens como Fortran, C, C++, ... (não só **Ju**lia, **Pyt**hon **e R**, Jupyter). Inclusive [Wolfram Language](https://github.com/mmatera/iwolfram)!\n",
    "- Suporte a HTML, LaTeX, Markdown, [Apresentações de Slides](https://rise.readthedocs.io/en/maint-5.5/), [mybinder](https://mybinder.org), e muito mais...\n",
    "- Mais informações: [Jupyter Notebook: An Introduction](https://realpython.com/jupyter-notebook-introduction/)"
   ]
  },
  {
   "cell_type": "markdown",
   "metadata": {},
   "source": [
    "Esse texto foi escrito em Markdown. Você consegue colocar equações em $\\LaTeX$ assim, ou $$G_{\\mu \\nu}=\\frac{8\\pi G}{c^4}T_{\\mu \\nu}.$$\n",
    "\n",
    "Além disso, você consegue colocar figuras, como a da UFES (topo). Ou colocar um vídeo do YouTube:"
   ]
  },
  {
   "cell_type": "code",
   "execution_count": null,
   "metadata": {},
   "outputs": [],
   "source": [
    "from IPython.display import YouTubeVideo\n",
    "YouTubeVideo('-dG3iy9U2wI', width=400, height=300)"
   ]
  },
  {
   "cell_type": "markdown",
   "metadata": {},
   "source": [
    "Ou páginas da web:"
   ]
  },
  {
   "cell_type": "code",
   "execution_count": null,
   "metadata": {},
   "outputs": [],
   "source": [
    "from IPython.display import IFrame\n",
    "IFrame('http://cosmo-ufes.org', width=400, height=300)"
   ]
  },
  {
   "cell_type": "markdown",
   "metadata": {},
   "source": [
    "Dica de leitura: \n",
    "- [Bringing the best out of Jupyter Notebooks for Data Science](https://towardsdatascience.com/bringing-the-best-out-of-jupyter-notebooks-for-data-science-f0871519ca29)\n",
    "- [Markdown Cheatsheet](https://github.com/adam-p/markdown-here/wiki/Markdown-Cheatsheet)\n",
    "- Função para criar gráficos em LaTeX usando o matplotlib, sem precisar se preocupar com o tamanho do arquivo com uma ou duas colunas por exemplo e a proporção no arquivo em LaTeX. Algunas dicas de estilos para os gráficos:\n",
    "    [Plot publication-quality figures with matplotlib and LaTeX](https://jwalton.info/Embed-Publication-Matplotlib-Latex/)\n",
    "- Dicas para a utilização de grande dataset:\n",
    "    [How to Efficiently Deal with Huge NumPy Arrays](http://chrisschell.de/2018/02/01/how-to-efficiently-deal-with-huge-Numpy-arrays.html)\n",
    "    \n",
    "    \n",
    "---"
   ]
  },
  {
   "cell_type": "markdown",
   "metadata": {},
   "source": [
    "Você encontrará vários exemplos [aqui](https://www.w3schools.com/python/default.asp)."
   ]
  },
  {
   "cell_type": "code",
   "execution_count": null,
   "metadata": {},
   "outputs": [],
   "source": [
    "# Variáveis:\n",
    "a = 1\n",
    "a"
   ]
  },
  {
   "cell_type": "code",
   "execution_count": null,
   "metadata": {},
   "outputs": [],
   "source": [
    "a + 2"
   ]
  },
  {
   "cell_type": "code",
   "execution_count": null,
   "metadata": {},
   "outputs": [],
   "source": [
    "a + \"Oi\""
   ]
  },
  {
   "cell_type": "markdown",
   "metadata": {},
   "source": [
    "Não é possível somar um `integer` com uma `string`. Leia o erro que aparece, não o ignore."
   ]
  },
  {
   "cell_type": "code",
   "execution_count": null,
   "metadata": {},
   "outputs": [],
   "source": [
    "\"UFE\"+\"S\""
   ]
  },
  {
   "cell_type": "markdown",
   "metadata": {},
   "source": [
    "Listas:"
   ]
  },
  {
   "cell_type": "code",
   "execution_count": null,
   "metadata": {},
   "outputs": [],
   "source": [
    "lista = []\n",
    "lista"
   ]
  },
  {
   "cell_type": "code",
   "execution_count": null,
   "metadata": {},
   "outputs": [],
   "source": [
    "lista.append(\"Olá\")"
   ]
  },
  {
   "cell_type": "code",
   "execution_count": null,
   "metadata": {},
   "outputs": [],
   "source": [
    "lista"
   ]
  },
  {
   "cell_type": "code",
   "execution_count": null,
   "metadata": {},
   "outputs": [],
   "source": [
    "lista.append(1)"
   ]
  },
  {
   "cell_type": "code",
   "execution_count": null,
   "metadata": {},
   "outputs": [],
   "source": [
    "lista"
   ]
  },
  {
   "cell_type": "code",
   "execution_count": null,
   "metadata": {},
   "outputs": [],
   "source": [
    "lista[0]"
   ]
  },
  {
   "cell_type": "code",
   "execution_count": null,
   "metadata": {},
   "outputs": [],
   "source": [
    "lista[1]"
   ]
  },
  {
   "cell_type": "code",
   "execution_count": null,
   "metadata": {},
   "outputs": [],
   "source": [
    "lista[-1]"
   ]
  },
  {
   "cell_type": "code",
   "execution_count": null,
   "metadata": {},
   "outputs": [],
   "source": [
    "lista[::-1]"
   ]
  },
  {
   "cell_type": "code",
   "execution_count": null,
   "metadata": {},
   "outputs": [],
   "source": [
    "nova_lista = []\n",
    "for i in range(10):\n",
    "    nova_lista.append(i)\n",
    "nova_lista"
   ]
  },
  {
   "cell_type": "code",
   "execution_count": null,
   "metadata": {},
   "outputs": [],
   "source": [
    "nova_lista = []\n",
    "for i in range(1, 20, 2):\n",
    "    nova_lista.append(i)\n",
    "nova_lista"
   ]
  },
  {
   "cell_type": "code",
   "execution_count": null,
   "metadata": {},
   "outputs": [],
   "source": [
    "for i in nova_lista:\n",
    "    print(i)"
   ]
  },
  {
   "cell_type": "code",
   "execution_count": null,
   "metadata": {},
   "outputs": [],
   "source": [
    "sum(nova_lista)"
   ]
  },
  {
   "cell_type": "code",
   "execution_count": null,
   "metadata": {},
   "outputs": [],
   "source": [
    "lista_2 = [[1, 2], [3, 4]]\n",
    "for i, j in lista_2:\n",
    "    print(i**2, j**3)"
   ]
  },
  {
   "cell_type": "code",
   "execution_count": null,
   "metadata": {},
   "outputs": [],
   "source": [
    "lista_2[0]"
   ]
  },
  {
   "cell_type": "code",
   "execution_count": null,
   "metadata": {},
   "outputs": [],
   "source": [
    "lista_2[-1]"
   ]
  },
  {
   "cell_type": "code",
   "execution_count": null,
   "metadata": {},
   "outputs": [],
   "source": [
    "lista_2[0][1]"
   ]
  },
  {
   "cell_type": "code",
   "execution_count": null,
   "metadata": {},
   "outputs": [],
   "source": [
    "big_list = [1, 2, 3, 4, 5, 6, 7, 8, 9, 10]"
   ]
  },
  {
   "cell_type": "code",
   "execution_count": null,
   "metadata": {},
   "outputs": [],
   "source": [
    "big_list[2:4]"
   ]
  },
  {
   "cell_type": "code",
   "execution_count": null,
   "metadata": {},
   "outputs": [],
   "source": [
    "big_list[::-1]"
   ]
  },
  {
   "cell_type": "markdown",
   "metadata": {},
   "source": [
    "Dicionários:"
   ]
  },
  {
   "cell_type": "code",
   "execution_count": null,
   "metadata": {},
   "outputs": [],
   "source": [
    "dicionario = {\"marca\": \"Ford\",\n",
    "              \"modelo\": \"Mustang\",\n",
    "              \"ano\": 1964\n",
    "}\n",
    "print(dicionario)"
   ]
  },
  {
   "cell_type": "code",
   "execution_count": null,
   "metadata": {},
   "outputs": [],
   "source": [
    "dicionario.keys()"
   ]
  },
  {
   "cell_type": "code",
   "execution_count": null,
   "metadata": {},
   "outputs": [],
   "source": [
    "dicionario.values()"
   ]
  },
  {
   "cell_type": "code",
   "execution_count": null,
   "metadata": {},
   "outputs": [],
   "source": [
    "dicionario[\"marca\"]"
   ]
  },
  {
   "cell_type": "code",
   "execution_count": null,
   "metadata": {},
   "outputs": [],
   "source": [
    "len(dicionario) # Vale também para listas"
   ]
  },
  {
   "cell_type": "code",
   "execution_count": null,
   "metadata": {},
   "outputs": [],
   "source": [
    "len(big_list)"
   ]
  },
  {
   "cell_type": "markdown",
   "metadata": {},
   "source": [
    "Funções:"
   ]
  },
  {
   "cell_type": "code",
   "execution_count": null,
   "metadata": {},
   "outputs": [],
   "source": [
    "def minha_func(x):\n",
    "    return x**2"
   ]
  },
  {
   "cell_type": "code",
   "execution_count": null,
   "metadata": {},
   "outputs": [],
   "source": [
    "minha_func(2)"
   ]
  },
  {
   "cell_type": "code",
   "execution_count": null,
   "metadata": {},
   "outputs": [],
   "source": [
    "f = lambda x: x**2"
   ]
  },
  {
   "cell_type": "code",
   "execution_count": null,
   "metadata": {},
   "outputs": [],
   "source": [
    "f(2)"
   ]
  },
  {
   "cell_type": "code",
   "execution_count": null,
   "metadata": {},
   "outputs": [],
   "source": [
    "def func_doc(x,y):\n",
    "    \"\"\"\n",
    "    Essa função calcula x**2 + y**2\n",
    "    \"\"\"\n",
    "    return x**2 + y**2"
   ]
  },
  {
   "cell_type": "code",
   "execution_count": null,
   "metadata": {},
   "outputs": [],
   "source": [
    "help(func_doc)"
   ]
  },
  {
   "cell_type": "code",
   "execution_count": null,
   "metadata": {},
   "outputs": [],
   "source": [
    "func_doc(2,3)"
   ]
  },
  {
   "cell_type": "code",
   "execution_count": null,
   "metadata": {},
   "outputs": [],
   "source": [
    "import numpy as np # Ferramentas numéricas\n",
    "import sympy as sp # Cálculo simbólico\n",
    "import matplotlib.pyplot as plt # Para realizar plots\n",
    "%matplotlib inline\n",
    "\n",
    "from sympy import init_printing # Pacote para imprimir os resultados de forma mais agradável.\n",
    "init_printing()"
   ]
  },
  {
   "cell_type": "code",
   "execution_count": null,
   "metadata": {},
   "outputs": [],
   "source": [
    "func_doc(2,3)"
   ]
  },
  {
   "cell_type": "code",
   "execution_count": null,
   "metadata": {},
   "outputs": [],
   "source": [
    "np.cos(1)"
   ]
  },
  {
   "cell_type": "code",
   "execution_count": null,
   "metadata": {},
   "outputs": [],
   "source": [
    "sp.cos(1) # Valor simbólico"
   ]
  },
  {
   "cell_type": "code",
   "execution_count": null,
   "metadata": {},
   "outputs": [],
   "source": [
    "sp.N(sp.cos(1))"
   ]
  },
  {
   "cell_type": "code",
   "execution_count": null,
   "metadata": {},
   "outputs": [],
   "source": [
    "t = np.arange(0.0, 2*np.pi, 0.1) #Array com valores de 0.0 até 2 pi, indo de 0.1 passos.\n",
    "t"
   ]
  },
  {
   "cell_type": "code",
   "execution_count": null,
   "metadata": {},
   "outputs": [],
   "source": [
    "plt.figure()\n",
    "plt.plot(t, minha_func(t), 'o')\n",
    "plt.show()"
   ]
  },
  {
   "cell_type": "code",
   "execution_count": null,
   "metadata": {},
   "outputs": [],
   "source": [
    "plt.xkcd()\n",
    "plt.plot(np.sin(np.linspace(0, 10)))\n",
    "plt.title('Whoo Hoo!!!')\n",
    "plt.show()"
   ]
  },
  {
   "cell_type": "markdown",
   "metadata": {},
   "source": [
    "---\n",
    "\n",
    "Exemplo de como utilizar classes: [Explain Python classes and objects to my nephew (+advanced use)](https://towardsdatascience.com/explain-python-classes-and-objects-to-my-nephew-advanced-use-ca108c1856cd)"
   ]
  },
  {
   "cell_type": "code",
   "execution_count": null,
   "metadata": {},
   "outputs": [],
   "source": [
    "YouTubeVideo('OEfSFrk_KEI', width=400, height=300)"
   ]
  },
  {
   "cell_type": "markdown",
   "metadata": {},
   "source": [
    "___\n",
    "\n",
    "Dar uma breve olhada em [A tutorial on Differential Evolution with Python](https://pablormier.github.io/2017/09/05/a-tutorial-on-differential-evolution-with-python/#).\n",
    "\n",
    "Temos a seguinte função:\n",
    "\n",
    "$$\\begin{eqnarray*}\n",
    "\\Psi\\left(\\theta,\\phi\\right) & = & \\sum_{i=1}^{2\\ell}\\arccos^2\\gamma_{i}\\left(\\theta,\\phi\\right),\\\\\n",
    "\\gamma_{i}\\left(\\theta,\\phi\\right) & = & \\cos\\left(\\theta_{i}\\right)\\cos\\left(\\theta\\right)+\\sin\\left(\\theta_{i}\\right)\\sin\\left(\\theta\\right)\\cos\\left(\\phi_{i}-\\phi\\right)\n",
    "\\end{eqnarray*},$$\n",
    "\n",
    "e o problema é encontrar o par $\\theta$ e $\\phi$ que minimiza $\\Psi$. Essa função está definida na esfera, com $0\\leq\\theta\\leq \\pi$ e $0\\leq\\phi\\leq 2\\pi$ (bounds)."
   ]
  },
  {
   "cell_type": "code",
   "execution_count": null,
   "metadata": {},
   "outputs": [],
   "source": [
    "import numpy as np\n",
    "import healpy as hp\n",
    "%matplotlib inline"
   ]
  },
  {
   "cell_type": "code",
   "execution_count": null,
   "metadata": {},
   "outputs": [],
   "source": [
    "ell_2 = np.load('ell_2.npy')\n",
    "ell_2"
   ]
  },
  {
   "cell_type": "code",
   "execution_count": null,
   "metadata": {},
   "outputs": [],
   "source": [
    "ell_1500 = np.load('ell_1500.npy')\n",
    "ell_1500"
   ]
  },
  {
   "cell_type": "code",
   "execution_count": null,
   "metadata": {},
   "outputs": [],
   "source": [
    "def psi(data, theta, phi):\n",
    "    gammas = np.cos(theta)*np.cos(data[:,0]) + np.sin(theta)*np.sin(data[:,0])*np.cos(phi - data[:,1])\n",
    "    return np.sum(np.arccos(gammas)**2)"
   ]
  },
  {
   "cell_type": "markdown",
   "metadata": {},
   "source": [
    "<figure>\n",
    "  <img src=\"https://healpix.jpl.nasa.gov/images/healpixGridRefinement.jpg\" alt=\"Healpix\" width=\"350\" height=\"228\">\n",
    "</figure>"
   ]
  },
  {
   "cell_type": "markdown",
   "metadata": {},
   "source": [
    "```python\n",
    "from psis import * # Esse código calcula a média usando força bruta.\n",
    "\n",
    "psi_min(ell_2)\n",
    "\n",
    "array([9.86960442, 0.76397568, 4.17899023])\n",
    "\n",
    "61.7 ms\n",
    "\n",
    "psi_min(ell_1500)\n",
    "\n",
    "array([8.80199879e+03, 2.23265421e-02, 4.29163996e+00])\n",
    "\n",
    "852 ms```"
   ]
  },
  {
   "cell_type": "code",
   "execution_count": null,
   "metadata": {},
   "outputs": [],
   "source": [
    "psi(ell_2, 0.76397568, 4.17899023)"
   ]
  },
  {
   "cell_type": "code",
   "execution_count": null,
   "metadata": {},
   "outputs": [],
   "source": [
    "psi(ell_1500, 2.23265421e-02, 4.29163996e+00)"
   ]
  },
  {
   "cell_type": "markdown",
   "metadata": {},
   "source": [
    "Usando o [Differential Evolution](https://docs.scipy.org/doc/scipy-0.17.0/reference/generated/scipy.optimize.differential_evolution.html):"
   ]
  },
  {
   "cell_type": "code",
   "execution_count": null,
   "metadata": {},
   "outputs": [],
   "source": [
    "from scipy.optimize import differential_evolution"
   ]
  },
  {
   "cell_type": "code",
   "execution_count": null,
   "metadata": {},
   "outputs": [],
   "source": [
    "def psi_func_de(data):\n",
    "    \n",
    "    psi_func = lambda params: np.sum(np.arccos(np.cos(params[0])*np.cos(data[:,0]) \\\n",
    "                                                   + np.sin(params[0])*np.sin(data[:,0])*np.cos(params[1] \\\n",
    "                                                                                               - data[:,1]))**2)\n",
    "    bounds = [(0, np.pi/2), (0, 2*np.pi)]\n",
    "    result = differential_evolution(psi_func, bounds)\n",
    "    return [result.fun, result.x[0], result.x[1]]"
   ]
  },
  {
   "cell_type": "code",
   "execution_count": null,
   "metadata": {},
   "outputs": [],
   "source": [
    "psi_func_de(ell_2)"
   ]
  },
  {
   "cell_type": "code",
   "execution_count": null,
   "metadata": {},
   "outputs": [],
   "source": [
    "%timeit psi_func_de(ell_2)"
   ]
  },
  {
   "cell_type": "code",
   "execution_count": null,
   "metadata": {},
   "outputs": [],
   "source": [
    "psi_func_de(ell_1500)"
   ]
  },
  {
   "cell_type": "code",
   "execution_count": null,
   "metadata": {},
   "outputs": [],
   "source": [
    "%timeit psi_func_de(ell_1500)"
   ]
  }
 ],
 "metadata": {
  "kernelspec": {
   "display_name": "Python 3",
   "language": "python",
   "name": "python3"
  },
  "language_info": {
   "codemirror_mode": {
    "name": "ipython",
    "version": 3
   },
   "file_extension": ".py",
   "mimetype": "text/x-python",
   "name": "python",
   "nbconvert_exporter": "python",
   "pygments_lexer": "ipython3",
   "version": "3.7.3"
  }
 },
 "nbformat": 4,
 "nbformat_minor": 2
}
