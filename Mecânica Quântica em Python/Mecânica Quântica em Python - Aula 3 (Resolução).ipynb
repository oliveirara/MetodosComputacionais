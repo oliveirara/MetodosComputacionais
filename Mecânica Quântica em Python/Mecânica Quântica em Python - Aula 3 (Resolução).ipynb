{
 "cells": [
  {
   "cell_type": "markdown",
   "metadata": {},
   "source": [
    "# Exercício Proposto\n",
    "\n",
    "Exercício da 7ª Lista da M.Q.:\n",
    "\n",
    "***\n",
    "3. A função de onda inicial de uma partícula no potencial do oscilador harmônico é: $$\\Psi(x, 0) = A [3\\varphi_0(x) + 4\\varphi_1(x)].$$\n",
    " 1. Encontre $A$, $\\Psi(x,t)$ e $|\\Psi(x,t)|^2$.\n",
    " 2. Em uma medida de energia, quais são os valores possíveis, e com quais probabilidades?\n",
    " 3. Mostre que $$\\langle x \\rangle=\\frac{24}{25}\\sqrt{\\frac{\\hbar}{2m\\omega}}\\cos{\\omega t}\\qquad \\langle p \\rangle=-\\frac{24}{25}\\sqrt{\\frac{m\\hbar\\omega}{2}}\\sin{\\omega t}.$$\n",
    " 4. Verifique que $\\frac{\\mathrm{d}}{\\mathrm{d}t}\\langle p \\rangle = - \\langle \\frac{\\mathrm{d}V}{\\mathrm{d}x} \\rangle$.\n",
    "***\n",
    "Nesta aula, vamos explorar um pouco mais o Utilize o [Sympy](http://www.sympy.org/pt/index.html) para resolver as integrais. \n",
    "\n",
    "***\n",
    "1. Resolva os itens (1), (3) e (4). Para cada resultado obtido, escreva a resposta (o output). Por exemplo, após encontrar o valor de A, peça para o python retornar o resultado simbólico da expressão.\n",
    "2. Utilize o matplotlib para plotar $|\\Psi(x,t)|^2$, $\\langle x \\rangle$ e $\\langle p \\rangle$. Para as funções que dependam do tempo, você pode utilizar para $t = 0$ ou $t \\neq 0$.\n",
    "***\n",
    "\n",
    "Lembrete:\n",
    "1. Importe as funções básicas que você irá utilizar.\n",
    "2. No Sympy, você precisará importar todas as variáveis simbólicas (letras) a serem utilizadas. \n",
    "3. Para que o resultado (output) apareça em $\\LaTeX$, importe \"from sympy import init_printing\" e depois execute \"init_printing()\".\n",
    "4. Por simplicidade, faça $\\hbar = m = \\omega = 1$. Fique a vontade caso queira utilizar valores mais realísticos."
   ]
  },
  {
   "cell_type": "markdown",
   "metadata": {},
   "source": [
    "Nome: Renan Alves de Oliveira"
   ]
  },
  {
   "cell_type": "code",
   "execution_count": null,
   "metadata": {
    "collapsed": true
   },
   "outputs": [],
   "source": [
    "from sympy import *\n",
    "from sympy import init_printing\n",
    "from math import factorial as fac\n",
    "init_printing()\n",
    "#Letras que vou utilizar. É necessário declarar se é real ou complexo, para simplificar psi**2.\n",
    "x = Symbol('x', real = True)\n",
    "A = Symbol('A', real = True)\n",
    "t = Symbol('t', real = True)"
   ]
  },
  {
   "cell_type": "code",
   "execution_count": null,
   "metadata": {
    "collapsed": true
   },
   "outputs": [],
   "source": [
    "def phin(n, x):\n",
    "    return hermite(n, x)*(1/sqrt(fac(n)*2**n))*((1/pi)**(1/4))*exp(- (x**2)/2)\n",
    "\n",
    "def psi(x): #Função em x = 0.\n",
    "    return A*(3*phin(0, x) + 4*phin(1, x))"
   ]
  },
  {
   "cell_type": "markdown",
   "metadata": {},
   "source": [
    "Vamos encontrar primeiramente o valor de $A$:"
   ]
  },
  {
   "cell_type": "code",
   "execution_count": null,
   "metadata": {
    "collapsed": false
   },
   "outputs": [],
   "source": [
    "integrate(psi(x)**2, (x, -oo, oo))"
   ]
  },
  {
   "cell_type": "code",
   "execution_count": null,
   "metadata": {
    "collapsed": true
   },
   "outputs": [],
   "source": [
    "A = 1/5"
   ]
  },
  {
   "cell_type": "code",
   "execution_count": null,
   "metadata": {
    "collapsed": false
   },
   "outputs": [],
   "source": [
    "psi(x)"
   ]
  },
  {
   "cell_type": "markdown",
   "metadata": {},
   "source": [
    "Uma vez que $E_n = \\frac{1}{2} + n$, $E_0 = \\frac{1}{2}$ e $E_1 = \\frac{3}{2}$. Então\n",
    "\n",
    "$$\\Psi(x,t) = \\frac{1}{5}(3\\varphi_{0}(x)e^{-i\\frac{t}{2}} + 4\\varphi_{1}(x)e^{-i\\frac{3}{2}t})$$"
   ]
  },
  {
   "cell_type": "code",
   "execution_count": null,
   "metadata": {
    "collapsed": false
   },
   "outputs": [],
   "source": [
    "def psixt(x, t):\n",
    "    return (1/5)*(3*phin(0, x)*exp(-(I*t)/2) + 4*phin(1, x)*exp(-(I*t*3)/2))"
   ]
  },
  {
   "cell_type": "code",
   "execution_count": null,
   "metadata": {
    "collapsed": false
   },
   "outputs": [],
   "source": [
    "integrate(psixt(x,0)*conjugate(psixt(x,0)), (x, -oo, oo))"
   ]
  },
  {
   "cell_type": "code",
   "execution_count": null,
   "metadata": {
    "collapsed": true
   },
   "outputs": [],
   "source": [
    "def psiquad(x, t):\n",
    "    result1 = psixt(x,t)*conjugate(psixt(x,t))\n",
    "    return trigsimp(expand(result1))"
   ]
  },
  {
   "cell_type": "code",
   "execution_count": null,
   "metadata": {
    "collapsed": false
   },
   "outputs": [],
   "source": [
    "psiquad(x,t)"
   ]
  },
  {
   "cell_type": "markdown",
   "metadata": {},
   "source": [
    "Aparentemente o Sympy não consegue simplificar o termo da exponencial, que é um $2\\cos(t)$:"
   ]
  },
  {
   "cell_type": "code",
   "execution_count": null,
   "metadata": {
    "collapsed": true
   },
   "outputs": [],
   "source": [
    "def psiquad(x, t):\n",
    "    return ((1.28*x**2/pi**(0.25)) + (0.36/pi**(0.25)))*exp(-x**2) + ((0.48*sqrt(2)*x*exp(-x**2))/pi**(0.25))*2*cos(t)"
   ]
  },
  {
   "cell_type": "code",
   "execution_count": null,
   "metadata": {
    "collapsed": false
   },
   "outputs": [],
   "source": [
    "#Cálculo de <x>:\n",
    "simplify(integrate(conjugate(psixt(x,t))*x*psixt(x,t), (x, -oo, oo)))"
   ]
  },
  {
   "cell_type": "code",
   "execution_count": null,
   "metadata": {
    "collapsed": false
   },
   "outputs": [],
   "source": [
    "#Cálculo de <p>:\n",
    "simplify(-I*integrate(conjugate(psixt(x,t))*diff(psixt(x,t), x), (x, -oo, oo)))"
   ]
  },
  {
   "cell_type": "markdown",
   "metadata": {},
   "source": [
    "Por último, temos:"
   ]
  },
  {
   "cell_type": "code",
   "execution_count": null,
   "metadata": {
    "collapsed": false
   },
   "outputs": [],
   "source": [
    "#Lado direito de (D):\n",
    "simplify(diff(-I*integrate(conjugate(psixt(x,t))*diff(psixt(x,t), x), (x, -oo, oo)), t))"
   ]
  },
  {
   "cell_type": "code",
   "execution_count": null,
   "metadata": {
    "collapsed": false
   },
   "outputs": [],
   "source": [
    "#Lado esquerdo de (D):\n",
    "-simplify(integrate(conjugate(psixt(x,t))*x*psixt(x,t), (x, -oo, oo)))"
   ]
  },
  {
   "cell_type": "markdown",
   "metadata": {},
   "source": [
    "Vamos agora plotar as funções. Neste caso para as funções que dependem do tempo, irei utilizar a função animate do matplotlib. Primeiramente vamos plotar $\\langle x \\rangle$ e $\\langle p \\rangle$:"
   ]
  },
  {
   "cell_type": "code",
   "execution_count": null,
   "metadata": {
    "collapsed": false
   },
   "outputs": [],
   "source": [
    "#Vou usar o numpy para redefinir as funções. Para evitar possíveis erros...\n",
    "import numpy as np\n",
    "from matplotlib import pyplot as plt\n",
    "from matplotlib import animation"
   ]
  },
  {
   "cell_type": "code",
   "execution_count": null,
   "metadata": {
    "collapsed": false
   },
   "outputs": [],
   "source": [
    "t = np.linspace(0, 2*np.pi, 256)\n",
    "xmean, pmean = 0.48*np.sqrt(2)*np.cos(t), -0.48*np.sqrt(2)*np.sin(t)\n",
    "\n",
    "plt.plot(t, xmean, color=\"blue\", label=r'$\\langle x \\rangle$')\n",
    "plt.plot(t, pmean, color=\"green\", label=r'$\\langle p \\rangle$')\n",
    "plt.legend(loc='upper left')\n",
    "\n",
    "plt.show()"
   ]
  },
  {
   "cell_type": "code",
   "execution_count": null,
   "metadata": {
    "collapsed": false
   },
   "outputs": [],
   "source": [
    "#Ajustar o tamanho da figura:\n",
    "fig = plt.figure()\n",
    "ax = plt.axes(xlim=(-2, 2), ylim=(0, 1))\n",
    "plt.title(r'$|\\Psi(x,t)|²$')\n",
    "line, = ax.plot([], [], lw=2, color=\"green\")\n",
    "\n",
    "#Plota o background para a animação:\n",
    "def init():\n",
    "    line.set_data([], [])\n",
    "    return line,\n",
    "\n",
    "#Função a ser animada:\n",
    "def animapsi(i):\n",
    "    x = np.linspace(-2, 2, 1000)\n",
    "    y = ((1.28*x**2/np.pi**(0.25)) + (0.36/np.pi**(0.25)))*np.exp(-x**2) + ((0.48*np.sqrt(2)*x*np.exp(-x**2))/np.pi**(0.25))*2*np.cos(i)\n",
    "    line.set_data(x, y)\n",
    "    return line,\n",
    "\n",
    "#Anima a função:\n",
    "anim1 = animation.FuncAnimation(fig, animapsi, init_func=init, frames=200, interval=1, blit=True)\n",
    "\n",
    "#Salva a animação.\n",
    "anim1.save('animation1.mp4', fps=5, extra_args=['-vcodec', 'libx264'])"
   ]
  },
  {
   "cell_type": "markdown",
   "metadata": {},
   "source": [
    "<video controls src=\"https://dl.dropbox.com/s/wduz0m9wnpz3r37/animation1.mp4\" />"
   ]
  }
 ],
 "metadata": {
  "anaconda-cloud": {},
  "kernelspec": {
   "display_name": "Python 3",
   "language": "python",
   "name": "python3"
  },
  "language_info": {
   "codemirror_mode": {
    "name": "ipython",
    "version": 3
   },
   "file_extension": ".py",
   "mimetype": "text/x-python",
   "name": "python",
   "nbconvert_exporter": "python",
   "pygments_lexer": "ipython3",
   "version": "3.7.3"
  }
 },
 "nbformat": 4,
 "nbformat_minor": 2
}
