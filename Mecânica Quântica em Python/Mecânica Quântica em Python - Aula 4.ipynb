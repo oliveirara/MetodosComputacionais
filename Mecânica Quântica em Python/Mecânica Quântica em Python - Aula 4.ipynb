{
 "cells": [
  {
   "cell_type": "markdown",
   "metadata": {},
   "source": [
    "# Exercício da 13ª Lista da M.Q.:\n",
    "\n",
    "***\n",
    "3. \n",
    "    (c) Mostre agora que as amplitudes de probabilidade das medidas de energia são dadas por $$b_n(\\epsilon)=\\frac{2a}{n\\pi}\\sqrt{\\frac{2}{a\\epsilon}}\\sin\\left(\\frac{n\\pi}{2}\\right)\\sin\\left(\\frac{n\\pi\\epsilon}{2a}\\right).$$ Faça um gráfico de $|b_n(\\epsilon)|^2$ para vários valores de $n$ e interprete seu resultado.\n",
    "    \n",
    "    (d) Com a ajuda de um software numérico (Mathematica, Maple, Matlab, Python...) mostre que $$\\lim_{\\epsilon\\rightarrow0}\\sum_{n=1}^{\\infty}\\left|b_{n}\\left(\\epsilon\\right)\\right|^{2}=1.$$(Dicas: para cálculos numéricos use $a = 1/2$. Caso você não consiga fazer a soma acima, como “demonstração” de que a mesma convergiu eu aceito: i) um gráfico de $\\sum_{n}\\left|b_{n}\\left(\\epsilon\\right)\\right|^{2}$ em função de  e ii) uma tabela com os valores da soma para vários valores de $\\epsilon$, indicando a convergência.)\n",
    "***"
   ]
  },
  {
   "cell_type": "code",
   "execution_count": null,
   "metadata": {
    "collapsed": false
   },
   "outputs": [],
   "source": [
    "import numpy as np\n",
    "\n",
    "def bn(n, e, a):\n",
    "    return (2*a/(n*np.pi))*np.sqrt(2/(a*e))*np.sin((n*np.pi)/2)*np.sin((n*np.pi*e)/(2*a))"
   ]
  },
  {
   "cell_type": "code",
   "execution_count": null,
   "metadata": {
    "collapsed": false
   },
   "outputs": [],
   "source": [
    "from matplotlib import pyplot as plt\n",
    "%matplotlib inline\n",
    "\n",
    "E = np.linspace(0.1, np.pi, 500)\n",
    "f1, f2, f3, f4, f5 = bn(1,E,1/2)**2, bn(2,E,1/2)**2, bn(3,E,1/2)**2, bn(4,E,1/2)**2, bn(5,E,1/2)**2\n",
    "\n",
    "plt.figure(figsize = (10, 6), dpi = 80)\n",
    "plt.xlabel(r'$\\epsilon$')\n",
    "plt.ylabel(r'$b_n^2(\\epsilon)$')\n",
    "plt.plot(E, f1, linestyle = \"-\", label = r'$b_1^2(\\epsilon)$')\n",
    "plt.plot(E, f2, linestyle = \"--\", label = r'$b_2^2(\\epsilon)$')\n",
    "plt.plot(E, f3, linestyle = \":\", label = r'$b_3^2(\\epsilon)$')\n",
    "plt.plot(E, f4, linestyle = \"-.\", label = r'$b_4^2(\\epsilon)$')\n",
    "plt.plot(E, f5, linestyle = \"-\", label = r'$b_5^2(\\epsilon)$')\n",
    "plt.legend(loc = 'upper left')\n",
    "\n",
    "plt.show()"
   ]
  },
  {
   "cell_type": "code",
   "execution_count": null,
   "metadata": {
    "collapsed": true
   },
   "outputs": [],
   "source": [
    "def sumbn(e, a, nmax):\n",
    "    lista = []\n",
    "    for i in range(1, nmax + 1):\n",
    "        lista.append(bn(i, e, a)**2)\n",
    "    lista = sum(lista[1:])\n",
    "    return lista"
   ]
  },
  {
   "cell_type": "code",
   "execution_count": null,
   "metadata": {
    "collapsed": false,
    "scrolled": false
   },
   "outputs": [],
   "source": [
    "F = np.linspace(0.000000000000000000000000000000000001, 0.000000000000000000000000000000000002, 500)\n",
    "\n",
    "f6 = sumbn(F, 1/2, 10000)\n",
    "\n",
    "plt.figure(figsize = (10, 6), dpi = 80)\n",
    "plt.xlabel(r'$\\epsilon$')\n",
    "plt.ylabel(r'$\\sum_nb_n^2(\\epsilon)$')\n",
    "plt.plot(E, f6, linestyle = \"-\")\n",
    "\n",
    "plt.show()"
   ]
  },
  {
   "cell_type": "code",
   "execution_count": null,
   "metadata": {
    "collapsed": false
   },
   "outputs": [],
   "source": [
    "sum(f6)"
   ]
  }
 ],
 "metadata": {
  "kernelspec": {
   "display_name": "Python 3",
   "language": "python",
   "name": "python3"
  },
  "language_info": {
   "codemirror_mode": {
    "name": "ipython",
    "version": 3
   },
   "file_extension": ".py",
   "mimetype": "text/x-python",
   "name": "python",
   "nbconvert_exporter": "python",
   "pygments_lexer": "ipython3",
   "version": "3.7.3"
  }
 },
 "nbformat": 4,
 "nbformat_minor": 2
}
