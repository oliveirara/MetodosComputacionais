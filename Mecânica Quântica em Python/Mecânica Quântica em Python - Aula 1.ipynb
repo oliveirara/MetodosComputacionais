{
 "cells": [
  {
   "cell_type": "markdown",
   "metadata": {},
   "source": [
    "- Vamos importar os pacotes básicos. Nesse caso, o Numpy, o Sympy e o Matplotlib\n",
    "- Para colocar comentários no python, utilisa-se o # (hashtag, ou sustenido)"
   ]
  },
  {
   "cell_type": "code",
   "execution_count": null,
   "metadata": {
    "collapsed": false
   },
   "outputs": [],
   "source": [
    "import numpy as np\n",
    "import sympy as sp\n",
    "import matplotlib.pyplot as plt\n",
    "from sympy import init_printing # Pacote para imprimir os resultados de forma mais agradável. (Deixa o código um pouco mais lento)\n",
    "init_printing()\n",
    "%matplotlib inline\n",
    "# A função de cima nos diz que todos os resultados vão aparecer aqui. (Geralmente abre uma janela)"
   ]
  },
  {
   "cell_type": "code",
   "execution_count": null,
   "metadata": {
    "collapsed": false
   },
   "outputs": [],
   "source": [
    "np.cos(1)"
   ]
  },
  {
   "cell_type": "code",
   "execution_count": null,
   "metadata": {
    "collapsed": false
   },
   "outputs": [],
   "source": [
    "sp.cos(1) # Valor simbólico"
   ]
  },
  {
   "cell_type": "code",
   "execution_count": null,
   "metadata": {
    "collapsed": false
   },
   "outputs": [],
   "source": [
    "sp.N(sp.cos(1)) # Para calcular o valor numérico usando o Sympy é necessário utilizar a função N()."
   ]
  },
  {
   "cell_type": "code",
   "execution_count": null,
   "metadata": {
    "collapsed": false
   },
   "outputs": [],
   "source": [
    "sp.N(np.cos(1)) # Funciona também com o Numpy"
   ]
  },
  {
   "cell_type": "code",
   "execution_count": null,
   "metadata": {
    "collapsed": false
   },
   "outputs": [],
   "source": [
    "sp.N(np.pi, 50) # Posso aumentar a precisão. Olhe a sintaxe na página do Sympy para mais detalhes."
   ]
  },
  {
   "cell_type": "code",
   "execution_count": null,
   "metadata": {
    "collapsed": false
   },
   "outputs": [],
   "source": [
    "#Vamos criar agora uma lista vazia e preencher os termos dela:\n",
    "\n",
    "lista1 = [] #Criei uma lista vazia"
   ]
  },
  {
   "cell_type": "code",
   "execution_count": null,
   "metadata": {
    "collapsed": false
   },
   "outputs": [],
   "source": [
    "lista1"
   ]
  },
  {
   "cell_type": "markdown",
   "metadata": {},
   "source": [
    "Dê uma olhada aqui: <a href=\"https://www.learnpython.org/en/Loops\">Loops in Python</a>."
   ]
  },
  {
   "cell_type": "code",
   "execution_count": null,
   "metadata": {
    "collapsed": false
   },
   "outputs": [],
   "source": [
    "for i in range(0,5): #O python não conta o último termo, ou seja, o i = 0, 1, 2, 3, 4. Dá pra começar em 1 e ir até 5 + 1.\n",
    "    lista1.append(i) #O append adiciona os elementos que você irá colocar dentro do parenteses dentro da lista criada"
   ]
  },
  {
   "cell_type": "code",
   "execution_count": null,
   "metadata": {
    "collapsed": false
   },
   "outputs": [],
   "source": [
    "lista1 = np.array(lista1) #Transforma a lista em uma array, que pode ser uma matrix por exemplo.\n",
    "print(lista1)"
   ]
  },
  {
   "cell_type": "code",
   "execution_count": null,
   "metadata": {
    "collapsed": false
   },
   "outputs": [],
   "source": [
    "#A partir da lista criada, o numpy tem várias funções que podem somar os termos da lista, caso seja uma matriz.\n",
    "#Vamos somar todos os elementos:\n",
    "sum(lista1) #O python já tem uma função sum, e ele te dá a soma dos termos dessa lista."
   ]
  },
  {
   "cell_type": "code",
   "execution_count": null,
   "metadata": {
    "collapsed": true
   },
   "outputs": [],
   "source": [
    "#Vamos definiar agora uma função que te dá a soma de todos os termos de uma lista de tamanho nmax:\n",
    "def funcao(nmax): #nmax é o tamanho da variável de soma máximo.\n",
    "    lista = [] #Cria uma lista vazia\n",
    "    for i in range(0, nmax + 1): #ou range(0,nmax).\n",
    "        lista.append(i)\n",
    "    soma = sum(np.array(lista)) #o np.array não é obrigatório.\n",
    "    return soma"
   ]
  },
  {
   "cell_type": "code",
   "execution_count": null,
   "metadata": {
    "collapsed": false
   },
   "outputs": [],
   "source": [
    "funcao(4)"
   ]
  },
  {
   "cell_type": "code",
   "execution_count": null,
   "metadata": {
    "collapsed": false
   },
   "outputs": [],
   "source": [
    "funcao(1000)"
   ]
  },
  {
   "cell_type": "code",
   "execution_count": null,
   "metadata": {
    "collapsed": true
   },
   "outputs": [],
   "source": [
    "#Vamos definir uma função qualquer e plotar ela:\n",
    "def fqualquer(x):\n",
    "    return np.cos(x) #Nossa que criativo! rs"
   ]
  },
  {
   "cell_type": "code",
   "execution_count": null,
   "metadata": {
    "collapsed": true
   },
   "outputs": [],
   "source": [
    "t = np.arange(0.0, 2*np.pi, 0.1) #Array com valores de 0.0 até 2 pi, indo de 0.1 passos."
   ]
  },
  {
   "cell_type": "code",
   "execution_count": null,
   "metadata": {
    "collapsed": false
   },
   "outputs": [],
   "source": [
    "t"
   ]
  },
  {
   "cell_type": "code",
   "execution_count": null,
   "metadata": {
    "collapsed": false
   },
   "outputs": [],
   "source": [
    "plt.figure()\n",
    "plt.plot(t, fqualquer(t), 'o')"
   ]
  },
  {
   "cell_type": "code",
   "execution_count": null,
   "metadata": {
    "collapsed": false,
    "scrolled": true
   },
   "outputs": [],
   "source": [
    "plt.figure()\n",
    "plt.plot(t, fqualquer(t), 'k')"
   ]
  },
  {
   "cell_type": "code",
   "execution_count": null,
   "metadata": {
    "collapsed": true
   },
   "outputs": [],
   "source": [
    "#É possível plotar funções utilizando o Sympy usando o plot."
   ]
  }
 ],
 "metadata": {
  "kernelspec": {
   "display_name": "Python 3",
   "language": "python",
   "name": "python3"
  },
  "language_info": {
   "codemirror_mode": {
    "name": "ipython",
    "version": 3
   },
   "file_extension": ".py",
   "mimetype": "text/x-python",
   "name": "python",
   "nbconvert_exporter": "python",
   "pygments_lexer": "ipython3",
   "version": "3.7.3"
  }
 },
 "nbformat": 4,
 "nbformat_minor": 2
}
