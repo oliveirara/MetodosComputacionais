{
 "cells": [
  {
   "cell_type": "markdown",
   "metadata": {},
   "source": [
    "# Exercício Proposto\n",
    "\n",
    "Exercício da 7ª Lista da M.Q.:\n",
    "\n",
    "***\n",
    "3. A função de onda inicial de uma partícula no potencial do oscilador harmônico é: $$\\Psi(x, 0) = A [3\\varphi_0(x) + 4\\varphi_1(x)].$$\n",
    " 1. Encontre $A$, $\\Psi(x,t)$ e $|\\Psi(x,t)|^2$.\n",
    " 2. Em uma medida de energia, quais são os valores possíveis, e com quais probabilidades?\n",
    " 3. Mostre que $$\\langle x \\rangle=\\frac{24}{25}\\sqrt{\\frac{\\hbar}{2m\\omega}}\\cos{\\omega t}\\qquad \\langle p \\rangle=-\\frac{24}{25}\\sqrt{\\frac{m\\hbar\\omega}{2}}\\sin{\\omega t}.$$\n",
    " 4. Verifique que $\\frac{\\mathrm{d}}{\\mathrm{d}t}\\langle p \\rangle = - \\langle \\frac{\\mathrm{d}V}{\\mathrm{d}x} \\rangle$.\n",
    "***\n",
    "Nesta aula, vamos explorar um pouco mais o Utilize o [Sympy](http://www.sympy.org/pt/index.html) para resolver as integrais. \n",
    "\n",
    "***\n",
    "1. Resolva os itens (1), (3) e (4). Para cada resultado obtido, escreva a resposta (o output). Por exemplo, após encontrar o valor de A, peça para o python retornar o resultado simbólico da expressão.\n",
    "2. Utilize o matplotlib para plotar $|\\Psi(x,t)|^2$, $\\langle x \\rangle$ e $\\langle p \\rangle$. Para as funções que dependam do tempo, você pode utilizar para $t = 0$ e $t \\neq 0$.\n",
    "***\n",
    "\n",
    "Lembrete:\n",
    "1. Importe as funções básicas que você irá utilizar *(não iremos usar o numpy por enquanto)*.\n",
    "2. No Sympy, você precisará importar todas as variáveis simbólicas (letras) a serem utilizadas. \n",
    "3. Para que o resultado (output) apareça em $ \\LaTeX $, importe \"from sympy import init_printing\" e depois execute \"init_printing()\".\n",
    "4. Por simplicidade, faça $\\hbar = m = \\omega = 1$. Fique a vontade caso queira utilizar valores mais realísticos."
   ]
  },
  {
   "cell_type": "markdown",
   "metadata": {},
   "source": [
    "Nome: [Coloque seu nome aqui.]"
   ]
  }
 ],
 "metadata": {
  "kernelspec": {
   "display_name": "Python 3",
   "language": "python",
   "name": "python3"
  },
  "language_info": {
   "codemirror_mode": {
    "name": "ipython",
    "version": 3
   },
   "file_extension": ".py",
   "mimetype": "text/x-python",
   "name": "python",
   "nbconvert_exporter": "python",
   "pygments_lexer": "ipython3",
   "version": "3.7.3"
  }
 },
 "nbformat": 4,
 "nbformat_minor": 2
}
