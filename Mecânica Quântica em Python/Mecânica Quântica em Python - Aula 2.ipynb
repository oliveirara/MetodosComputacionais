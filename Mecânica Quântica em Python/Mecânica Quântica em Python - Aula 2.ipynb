{
 "cells": [
  {
   "cell_type": "markdown",
   "metadata": {},
   "source": [
    "# Python para mecânica quântica\n",
    "\n",
    "Na última aula, fizemos alguns testes do Jupyter Notebook, e as suas possíveis aplicações para a graduação em física. Vem incluido as linguagens de programação Python, R e Julia. É possível compilar C, Fortran e renderiza arquivos em $\\LaTeX$.\n",
    "\n",
    "## Onde posso baixar:\n",
    "\n",
    "O Jupyter Notebook está disponível no <a href=\"https://www.continuum.io/DOWNLOADS\">Anaconda</a>. Está disponível para Windows, Mac e Linux.\n",
    "\n",
    "Feito a instalação, todos os pacotes básicos do Python (3.6) estará instalado, por exemplo <a href=\"http://www.numpy.org\">Numeric Python</a> (numpy), <a href=\"http://www.sympy.org/pt/index.html\">Symbolic Python</a> (sympy), <a href=\"https://www.scipy.org\">Scientific Python</a> (scipy) entre outros.\n",
    "\n",
    "É possível também usar o Jupyter notebook para fazer apresentações de slides através do pacote <a href=\"https://github.com/damianavila/RISE\">RISE</a>. O processo de instalação é feito pelo terminal (no windows, é o PowerShell ou o Prompt de Comando).\n",
    "\n",
    "### Alguns exemplos do que você pode fazer com o Jupyter Notebook\n",
    "\n",
    "## Não sei nada de Python, e agora?\n",
    "\n",
    "Existem várias ferramentas e cursos online de Python. O objetivo desse curso é aprender algumas ferramentas básicas e aplicar na mecânica quântica. Porém, para um estudo mais refinado, eu vou citar algumas referências de como usar o Python e mais especificamente o Jupyter Notebook.\n",
    "\n",
    "- <a href=\"https://www.codecademy.com/learn/python\">Python - Codecademy</a>\n",
    "- <a href=\"https://www.coursera.org/learn/python\">Programming for Everybody (Getting Started with Python)</a>\n",
    "- Uma coisa que você precisa ficar acostumado é entender os erros na hora de rodar o programa. Provavelmente alguém já passou pela mesma situação que você irá enfrentar programando. Existe um site <a href=\"https://stackoverflow.com/questions/tagged/python\">StackOverflow</a>, onde lá as pessoas postam perguntas e possíveis soluções para cada problema. Porém, vale lembrar que antes de sair perguntando, pesquise e muito. Leia as definições de funções que vocês estão utilizando, por exemplo: Vou utilizar uma função já implementada que existe no Sympy e ela tem três entradas. Certifique-se de que a sintaxe está correta.\n",
    "\n",
    "# Revisão\n",
    "\n",
    "Antes de começarmos a implementar as funções e plotar no Python, vamos recaptular o que fizemos na aula passada, e vou adicionar mais algumas coisas. Abra o arquivo \"Revisão\".\n",
    "\n",
    "### Exemplo 2.2 do Griffiths: Partícula em um poço de potencial infinito\n",
    "\n",
    "A função de onda para uma partícula é dada por\n",
    "$$\\psi\\left(x,t\\right)=\\sqrt{\\frac{30}{a}}\\left(\\frac{2}{\\pi}\\right)^{3}\\sum_{n=1,3,5...}\\frac{1}{n^{3}}\\sin\\left(\\frac{n\\pi}{a}x\\right)\\exp\\left(-\\frac{in^{2}\\pi^{2}\\hbar t}{2ma^{2}}\\right),$$\n",
    "onde $a$ é a largura do poço.\n",
    "Precisamos assim definir a função de onda que dependerá de três variáveis + 1 variável numérica: posição, tempo e a largura do poço; $n$ máximo, por motivos numéricos, a soma a princípio vai até $\\infty$.\n",
    "Para esse exemplo, vamos animar somente a parte real da função de onda, ou sera:\n",
    "\n",
    "$$\\psi\\left(x,t\\right)=\\sqrt{\\frac{30}{a}}\\left(\\frac{2}{\\pi}\\right)^{3}\\sum_{n=1,3,5...}\\frac{1}{n^{3}}\\sin\\left(\\frac{n\\pi}{a}x\\right)\\cos\\left(\\frac{n^{2}\\pi^{2}\\hbar t}{2ma^{2}}\\right)$$\n",
    "\n",
    "1.  É necessário chamar as bibliotecas básicas. No caso, vamos utilizar o numpy para chamar as funções trigonométricas, exponencial, etc.\n",
    "2. Precisamos definir a função utilizando $\\mathrm{def}$, e colocar as variáveis.\n",
    "3. Como tem uma soma para os termos ímpares, precisamos criar uma <a href=\"http://www.i-programmer.info/programming/python/3942-arrays-in-python.html\">array</a>, e selecionar apenas os números ímpares. Ou, sabemos que qualquer número ímpar pode ser escrito por $n \\rightarrow 2n+1$, e na expressão para $\\psi$ fazemos essa troca."
   ]
  },
  {
   "cell_type": "code",
   "execution_count": null,
   "metadata": {
    "collapsed": false
   },
   "outputs": [],
   "source": [
    "import numpy as np #Importa o numpy e chama de np.\n",
    "import matplotlib.pyplot as plt #Ferramenta para o plot, usando o Matplotlib.\n",
    "from ipywidgets import * #Bibliotecas para fazermos as animações.\n",
    "%matplotlib inline\n",
    "\n",
    "def psi(x,t,a,nmax):\n",
    "    termosfora = np.sqrt(30/a)*(2/np.pi)**3 #Elevado no Python é **.\n",
    "    m = 1 #Vamos considerar m = hbar = 1.\n",
    "    hbar = 1\n",
    "    lista = []\n",
    "    for i in range(0, nmax + 1):\n",
    "        n = 2*i + 1 #Condição para deixar os termos pares. Por exemplo, i = 0, n = 1, i = 1, n = 3...\n",
    "        f = (1/n**3)*np.sin((n*np.pi*x)/a)*np.cos((n**2)*(np.pi)**2*hbar*t/(2*m*a**2))\n",
    "        lista.append(f)\n",
    "    soma = sum(lista)\n",
    "    return termosfora*soma"
   ]
  },
  {
   "cell_type": "code",
   "execution_count": null,
   "metadata": {
    "collapsed": false
   },
   "outputs": [],
   "source": [
    "def plotafuncao(t, a, nmax):\n",
    "    x = np.arange(-a/2,a/2,0.01) #Função de onda dentro de um poço indo de -a a a.\n",
    "    plt.plot(x,psi(x,t,a,nmax)) #Coloca a função a ser plotada.\n",
    "    plt.title(r'$\\Re{\\psi(x,t)}$')\n",
    "    plt.ylim([-0.75,0.75])\n",
    "    plt.xlabel(r'$x$')\n",
    "    plt.rcParams[\"figure.figsize\"] = (6,6) #Tamanho do plot.\n",
    "    plt.show()\n",
    "\n",
    "interact(lambda Tempo: plotafuncao(Tempo, 5, 20),Tempo=(-10,10,0.1), autoplay=True)"
   ]
  },
  {
   "cell_type": "markdown",
   "metadata": {},
   "source": [
    "### Exercício do Griffiths 2.43: Pacote gaussiano se movendo em 1 dimensão\n",
    "\n",
    "Neste caso, vamos plotar a função de onda dependente do tempo confinada em uma certa região. Temos que\n",
    "\n",
    "$$\\left|\\psi\\left(x,t\\right)\\right|^{2}=\\sqrt{\\frac{2}{\\pi}}w\\exp\\left[-2w^{2}\\left(\\frac{\\hbar lt}{m}-x\\right)^{2}\\right],$$ com $$w=\\left[1+\\left(\\frac{2\\hbar at}{m}\\right)^{2}\\right]^{-\\frac{1}{2}}.$$"
   ]
  },
  {
   "cell_type": "code",
   "execution_count": null,
   "metadata": {
    "collapsed": false
   },
   "outputs": [],
   "source": [
    "def psiquad(x,t,a,l):\n",
    "    w = (1 + (2*a*t)**2)**(-1/2)\n",
    "    eq = np.sqrt(2/np.pi)*w*np.exp(-2*w**2*(l*t-x)**2)\n",
    "    return eq\n",
    "\n",
    "def plotafuncao2(t, a, l):\n",
    "    x = np.arange(-10,30,0.01) #Função de onda dentro de um poço indo de -a a a.\n",
    "    plt.plot(x,psiquad(x,t,a,l)) #Coloca a função a ser plotada.\n",
    "    plt.title('Exercício 2.43')\n",
    "    plt.ylabel(r'$\\psi(x,t)$')\n",
    "    plt.ylim([0,1])\n",
    "    plt.xlabel(r'$x$')\n",
    "    plt.rcParams[\"figure.figsize\"] = (6,6) #Tamanho do plot.\n",
    "    plt.show()\n",
    "\n",
    "interact(lambda Tempo: plotafuncao2(Tempo, 1, 1),Tempo=(-20,20,0.1),auto=True)"
   ]
  },
  {
   "cell_type": "markdown",
   "metadata": {},
   "source": [
    "### Oscilador harmônico\n",
    "\n",
    "A equação do oscilador harmônico é dada por\n",
    "\n",
    "$$-\\frac{\\hbar^{2}}{2m}\\frac{\\mathrm{d}^{2}}{\\mathrm{d}x^{2}}\\psi+\\frac{1}{2}m\\omega^{2}x^{2}\\psi=E\\psi$$com solução\n",
    "\n",
    "$$\\psi_{n}\\left(x\\right)=\\left(\\frac{m\\omega}{\\pi\\hbar}\\right)^{\\frac{1}{4}}\\frac{1}{\\sqrt{2^{n}n!}}H_{n}\\left(\\xi\\right)e^{-\\frac{\\xi^{2}}{2}},$$ onde $H$ são os polinômios de Hermite e $$\\xi\\equiv\\sqrt{\\frac{m\\omega}{\\hbar}}x.$$\n",
    "\n",
    "Vamos verificar qual é o comportamento dessas funções, tal que:\n",
    "\n",
    "$$\\left(\\frac{m\\omega}{\\pi\\hbar}\\right)^{-\\frac{1}{4}}\\psi_{n}\\left(x\\right)\\equiv\\psi_{n}\\left(\\xi\\right)=\\frac{1}{\\sqrt{2^{n}n!}}H_{n}\\left(\\xi\\right)e^{-\\frac{\\xi^{2}}{2}}.$$"
   ]
  },
  {
   "cell_type": "code",
   "execution_count": null,
   "metadata": {
    "collapsed": true
   },
   "outputs": [],
   "source": [
    "from scipy.special import factorial as fac\n",
    "from scipy.special import hermite\n",
    "\n",
    "def psioh(x,n):\n",
    "    h = hermite(n) #Retorna os coeficientes dos polinômios de Hermite. Após isso na função eu coloco o valor para x.\n",
    "    return (1/np.sqrt(2**n*fac(n)))*h(x)*np.exp(-x**2/2)\n",
    "\n",
    "def plotafuncao3(n):\n",
    "    x = np.arange(-10,10,0.01) #Função de onda dentro de um poço indo de -a a a.\n",
    "    plt.plot(x,psioh(x,n)) #Coloca a função a ser plotada.\n",
    "    plt.title('Oscilador Harmônico')\n",
    "    plt.ylabel(r'$\\psi(x)$')\n",
    "    plt.xlabel(r'$x$')\n",
    "    plt.rcParams[\"figure.figsize\"] = (6,6) #Tamanho do plot.\n",
    "    plt.show()"
   ]
  },
  {
   "cell_type": "code",
   "execution_count": null,
   "metadata": {
    "collapsed": false
   },
   "outputs": [],
   "source": [
    "plotafuncao3(4)"
   ]
  },
  {
   "cell_type": "markdown",
   "metadata": {},
   "source": [
    "### Exercício 9.20 David McIntyre - Quantum Mechanics:\n",
    "\n",
    "Vamos plotar a parte real e a parte imaginária da função de onda. Ela é dada por\n",
    "\n",
    "$$\\left(\\frac{m\\omega}{\\pi\\hbar}\\right)^{-\\frac{1}{4}}\\psi\\left(x,t\\right)=\\sum_{n=0}^{\\infty}\\frac{\\alpha^{n}}{\\sqrt{n!}}\\exp\\left(-\\frac{\\alpha^{2}}{2}\\right)\\exp\\left[-i\\left(n+\\frac{1}{2}\\right)t\\right]\\frac{1}{\\sqrt{2^{n}n!}}H_{n}\\left(x\\right)\\exp\\left(-\\frac{\\xi^{2}}{2}\\right),$$com $$\\alpha = \\frac{1}{\\sqrt{2}}.$$"
   ]
  },
  {
   "cell_type": "code",
   "execution_count": null,
   "metadata": {
    "collapsed": true
   },
   "outputs": [],
   "source": [
    "def partereal(x, t, nmax):\n",
    "    lista = []\n",
    "    for n in range(0, nmax + 1):\n",
    "        alpha = 1/np.sqrt(2)\n",
    "        termo1 = (alpha**n/np.sqrt(fac(n)))*np.exp(-(alpha**2/2))*np.cos(2*np.pi*(n + (1/2))*t)\n",
    "        h = hermite(n)\n",
    "        termo2 = (1/np.sqrt(fac(n)*2**n))*h(x)*np.exp(-x**2/2)\n",
    "        lista.append(termo1*termo2)\n",
    "    return sum(lista)\n",
    "\n",
    "def parteimaginaria(x, t, nmax):\n",
    "    lista = []\n",
    "    for n in range(0, nmax + 1):\n",
    "        alpha = 1/np.sqrt(2)\n",
    "        termo1 = (alpha**n/np.sqrt(fac(n)))*np.exp(-(alpha**2/2))*np.sin((n + (1/2))*t)\n",
    "        h = hermite(n)\n",
    "        termo2 = (1/np.sqrt(fac(n)*2**n))*h(x)*np.exp(-x**2/2)\n",
    "        lista.append(termo1*termo2)\n",
    "    return sum(lista)\n",
    "\n",
    "def plotafuncao4(t, nmax):\n",
    "    x = np.arange(-10,10,0.01) #Função de onda dentro de um poço indo de -a a a.\n",
    "    plt.plot(x,partereal(x, t, nmax)) #Coloca a função a ser plotada.\n",
    "    plt.title('Parte Real')\n",
    "    plt.ylabel(r'$\\psi(x,t)$')\n",
    "    plt.xlabel(r'$x$')\n",
    "    plt.rcParams[\"figure.figsize\"] = (6,6) #Tamanho do plot.\n",
    "    plt.show()\n",
    "    \n",
    "def plotafuncao5(t, nmax):\n",
    "    x = np.arange(-10,10,0.01) #Função de onda dentro de um poço indo de -a a a.\n",
    "    plt.plot(x,partereal(x, t, nmax)) #Coloca a função a ser plotada.\n",
    "    plt.title('Parte Imaginária')\n",
    "    plt.ylabel(r'$\\psi(x,t)$')\n",
    "    plt.xlabel(r'$x$')\n",
    "    plt.rcParams[\"figure.figsize\"] = (6,6) #Tamanho do plot.\n",
    "    plt.show()"
   ]
  },
  {
   "cell_type": "code",
   "execution_count": null,
   "metadata": {
    "collapsed": false,
    "scrolled": false
   },
   "outputs": [],
   "source": [
    "interact(lambda Tempo: plotafuncao4(Tempo, 10),Tempo=(0,1,0.1),auto=True)"
   ]
  },
  {
   "cell_type": "code",
   "execution_count": null,
   "metadata": {
    "collapsed": false
   },
   "outputs": [],
   "source": [
    "interact(lambda Tempo: plotafuncao5(Tempo, 10),Tempo=(-20,20,0.1),auto=True)"
   ]
  },
  {
   "cell_type": "code",
   "execution_count": null,
   "metadata": {
    "collapsed": true
   },
   "outputs": [],
   "source": [
    "#Vamos plotar também o módulo quadrático de psi.\n",
    "def psidois(x, nmax):\n",
    "    lista = []\n",
    "    for n in range(0, nmax + 1):\n",
    "        alpha = 1/np.sqrt(2)\n",
    "        termo1 = (alpha**n/np.sqrt(fac(n)))*np.exp(-(alpha**2/2))\n",
    "        h = hermite(n)\n",
    "        termo2 = (1/np.sqrt(fac(n)*2**n))*h(x)*np.exp(-x**2/2)\n",
    "        lista.append((termo1*termo2)**2)\n",
    "    return sum(lista)\n",
    "\n",
    "\n",
    "def plotafuncao6(nmax):\n",
    "    x = np.arange(-10,10,0.01) #Função de onda dentro de um poço indo de -a a a.\n",
    "    plt.plot(x,psidois(x,nmax)) #Coloca a função a ser plotada.\n",
    "    plt.title('Parte Real')\n",
    "    plt.ylabel(r'$\\psi(x,t)$')\n",
    "    plt.xlabel(r'$x$')\n",
    "    plt.rcParams[\"figure.figsize\"] = (6,6) #Tamanho do plot.\n",
    "    plt.show()"
   ]
  },
  {
   "cell_type": "code",
   "execution_count": null,
   "metadata": {
    "collapsed": false
   },
   "outputs": [],
   "source": [
    "plotafuncao6(20)"
   ]
  }
 ],
 "metadata": {
  "kernelspec": {
   "display_name": "Python 3",
   "language": "python",
   "name": "python3"
  },
  "language_info": {
   "codemirror_mode": {
    "name": "ipython",
    "version": 3
   },
   "file_extension": ".py",
   "mimetype": "text/x-python",
   "name": "python",
   "nbconvert_exporter": "python",
   "pygments_lexer": "ipython3",
   "version": "3.7.3"
  },
  "widgets": {
   "state": {
    "2505ed5e6239481bb1a47e386382a373": {
     "views": [
      {
       "cell_index": 10
      }
     ]
    },
    "527a5092b649479f8d802e64db3e4049": {
     "views": [
      {
       "cell_index": 11
      }
     ]
    },
    "6e6a2014458b41c7b2cad34d72dc04f7": {
     "views": [
      {
       "cell_index": 2
      }
     ]
    },
    "9b406de5dd3b49ca8affd965c2332a56": {
     "views": [
      {
       "cell_index": 10
      }
     ]
    },
    "b692d301a3ae411f8ba7c7fd20e5873c": {
     "views": [
      {
       "cell_index": 10
      }
     ]
    },
    "e766de1e272041779e8a884944f5ffbc": {
     "views": [
      {
       "cell_index": 4
      }
     ]
    }
   },
   "version": "1.2.0"
  }
 },
 "nbformat": 4,
 "nbformat_minor": 2
}
